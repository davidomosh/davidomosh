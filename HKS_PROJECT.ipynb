{
  "nbformat": 4,
  "nbformat_minor": 0,
  "metadata": {
    "colab": {
      "provenance": [],
      "mount_file_id": "1QLqHfJhSBL5v8oMK_Pkg9w-3jCMVz2_J",
      "authorship_tag": "ABX9TyNkq7vDWps5rXKO805+ojV+",
      "include_colab_link": true
    },
    "kernelspec": {
      "name": "python3",
      "display_name": "Python 3"
    },
    "language_info": {
      "name": "python"
    }
  },
  "cells": [
    {
      "cell_type": "markdown",
      "metadata": {
        "id": "view-in-github",
        "colab_type": "text"
      },
      "source": [
        "<a href=\"https://colab.research.google.com/github/davidomosh/davidomosh/blob/main/HKS_PROJECT.ipynb\" target=\"_parent\"><img src=\"https://colab.research.google.com/assets/colab-badge.svg\" alt=\"Open In Colab\"/></a>"
      ]
    },
    {
      "cell_type": "code",
      "execution_count": null,
      "metadata": {
        "id": "oy-1CLb-74q3",
        "colab": {
          "base_uri": "https://localhost:8080/"
        },
        "collapsed": true,
        "outputId": "bb7944a1-474a-44ed-89b1-745b8461dad0"
      },
      "outputs": [
        {
          "output_type": "stream",
          "name": "stdout",
          "text": [
            "Collecting vaderSentiment\n",
            "  Downloading vaderSentiment-3.3.2-py2.py3-none-any.whl (125 kB)\n",
            "\u001b[2K     \u001b[90m━━━━━━━━━━━━━━━━━━━━━━━━━━━━━━━━━━━━━━━━\u001b[0m \u001b[32m126.0/126.0 kB\u001b[0m \u001b[31m2.3 MB/s\u001b[0m eta \u001b[36m0:00:00\u001b[0m\n",
            "\u001b[?25hRequirement already satisfied: requests in /usr/local/lib/python3.10/dist-packages (from vaderSentiment) (2.31.0)\n",
            "Requirement already satisfied: charset-normalizer<4,>=2 in /usr/local/lib/python3.10/dist-packages (from requests->vaderSentiment) (3.3.2)\n",
            "Requirement already satisfied: idna<4,>=2.5 in /usr/local/lib/python3.10/dist-packages (from requests->vaderSentiment) (3.7)\n",
            "Requirement already satisfied: urllib3<3,>=1.21.1 in /usr/local/lib/python3.10/dist-packages (from requests->vaderSentiment) (2.0.7)\n",
            "Requirement already satisfied: certifi>=2017.4.17 in /usr/local/lib/python3.10/dist-packages (from requests->vaderSentiment) (2024.6.2)\n",
            "Installing collected packages: vaderSentiment\n",
            "Successfully installed vaderSentiment-3.3.2\n",
            "Requirement already satisfied: textblob in /usr/local/lib/python3.10/dist-packages (0.17.1)\n",
            "Requirement already satisfied: nltk>=3.1 in /usr/local/lib/python3.10/dist-packages (from textblob) (3.8.1)\n",
            "Requirement already satisfied: click in /usr/local/lib/python3.10/dist-packages (from nltk>=3.1->textblob) (8.1.7)\n",
            "Requirement already satisfied: joblib in /usr/local/lib/python3.10/dist-packages (from nltk>=3.1->textblob) (1.4.2)\n",
            "Requirement already satisfied: regex>=2021.8.3 in /usr/local/lib/python3.10/dist-packages (from nltk>=3.1->textblob) (2024.5.15)\n",
            "Requirement already satisfied: tqdm in /usr/local/lib/python3.10/dist-packages (from nltk>=3.1->textblob) (4.66.4)\n"
          ]
        },
        {
          "output_type": "stream",
          "name": "stderr",
          "text": [
            "[nltk_data] Downloading package stopwords to /root/nltk_data...\n",
            "[nltk_data]   Unzipping corpora/stopwords.zip.\n"
          ]
        }
      ],
      "source": [
        "#Importing necessary libraries\n",
        "import nltk\n",
        "!pip install vaderSentiment\n",
        "!pip install textblob\n",
        "nltk.download('stopwords')\n",
        "from nltk.stem import WordNetLemmatizer\n",
        "# Initialize WordNetLemmatizer\n",
        "lemmatizer = WordNetLemmatizer()\n",
        "import pandas as pd\n",
        "from textblob import Word\n",
        "from nltk.corpus import stopwords\n",
        "from sklearn.preprocessing import LabelEncoder\n",
        "from sklearn.metrics import classification_report,confusion_matrix,accuracy_score\n",
        "from keras.models import Sequential\n",
        "from keras.preprocessing.text import Tokenizer\n",
        "from keras.preprocessing.sequence import pad_sequences\n",
        "from keras.layers import Dense, Embedding, LSTM, SpatialDropout1D\n",
        "from sklearn.model_selection import train_test_split\n"
      ]
    },
    {
      "cell_type": "code",
      "source": [
        "#Loading the dataset\n",
        "data=pd.read_csv(\"/content/drive/MyDrive/fb data.csv\", encoding='latin-1') # Try loading with Latin-1 encoding"
      ],
      "metadata": {
        "id": "GBoLITP1uZcg"
      },
      "execution_count": null,
      "outputs": []
    },
    {
      "cell_type": "code",
      "source": [
        "print(data.head())"
      ],
      "metadata": {
        "colab": {
          "base_uri": "https://localhost:8080/"
        },
        "id": "1SzOfPQbE01y",
        "outputId": "9e4740fa-7f67-497d-ee19-40cb079303f9",
        "collapsed": true
      },
      "execution_count": null,
      "outputs": [
        {
          "output_type": "stream",
          "name": "stdout",
          "text": [
            "   commentsCount                      date  likesCount  \\\n",
            "0            NaN  2023-10-02T06:23:01.000Z           0   \n",
            "1            1.0  2023-09-28T05:15:17.000Z           0   \n",
            "2            1.0  2023-09-27T13:35:39.000Z           0   \n",
            "3            NaN  2023-09-27T21:42:23.000Z           0   \n",
            "4            NaN  2023-09-27T20:15:04.000Z           0   \n",
            "\n",
            "                                           postTitle           profileName  \\\n",
            "0  Yes, it's possible to apply for a birth certif...     Virginiah Wanjiku   \n",
            "1  Yes, it's possible to apply for a birth certif...  Mugusi Macdonald Mac   \n",
            "2  Yes, it's possible to apply for a birth certif...      Purity K Adagala   \n",
            "3  Yes, it's possible to apply for a birth certif...         Ronald Ragnar   \n",
            "4  Yes, it's possible to apply for a birth certif...            Edu Ng'ash   \n",
            "\n",
            "                                                text  \n",
            "0                          May b a week or two weeks  \n",
            "1  I am a witness, I applied for my child's birth...  \n",
            "2  When you have money, nothing is impossible in ...  \n",
            "3  Hio tuliachia the rich Somalis....asubuhi anap...  \n",
            "4                           Shame on you..uongo tupu  \n"
          ]
        }
      ]
    },
    {
      "cell_type": "code",
      "source": [
        "data.columns"
      ],
      "metadata": {
        "colab": {
          "base_uri": "https://localhost:8080/"
        },
        "id": "78pxKf8GR4ZY",
        "outputId": "c3246105-240a-4792-e329-2a409b8bacc6"
      },
      "execution_count": null,
      "outputs": [
        {
          "output_type": "execute_result",
          "data": {
            "text/plain": [
              "Index(['commentsCount', 'date', 'likesCount', 'postTitle', 'profileName',\n",
              "       'text'],\n",
              "      dtype='object')"
            ]
          },
          "metadata": {},
          "execution_count": 3
        }
      ]
    },
    {
      "cell_type": "code",
      "source": [
        "# Check for missing values in each column\n",
        "missing_values = data.isnull().sum()\n",
        "df_cleaned=data.dropna(inplace=True)\n",
        "print(missing_values)\n",
        "\n"
      ],
      "metadata": {
        "id": "X1j2Q6jDG5DR",
        "colab": {
          "base_uri": "https://localhost:8080/"
        },
        "outputId": "ecf3710d-adee-4d74-e20d-2967917ec168"
      },
      "execution_count": null,
      "outputs": [
        {
          "output_type": "stream",
          "name": "stdout",
          "text": [
            "commentsCount    1611\n",
            "date                0\n",
            "likesCount          0\n",
            "postTitle         477\n",
            "profileName         0\n",
            "text               69\n",
            "dtype: int64\n"
          ]
        }
      ]
    },
    {
      "cell_type": "code",
      "source": [
        "# Convert the 'date' column to datetime format\n",
        "data['date'] = pd.to_datetime(data['date'])\n",
        "print(data.head())"
      ],
      "metadata": {
        "colab": {
          "base_uri": "https://localhost:8080/"
        },
        "id": "lNFhhkUJViYA",
        "outputId": "685bdff0-d9be-4741-91c0-32a84b251c9e",
        "collapsed": true
      },
      "execution_count": null,
      "outputs": [
        {
          "output_type": "stream",
          "name": "stdout",
          "text": [
            "    commentsCount                      date  likesCount  \\\n",
            "1             1.0 2023-09-28 05:15:17+00:00           0   \n",
            "2             1.0 2023-09-27 13:35:39+00:00           0   \n",
            "5             3.0 2023-09-27 13:49:40+00:00           0   \n",
            "12            1.0 2023-09-27 13:39:12+00:00           0   \n",
            "23            3.0 2022-12-08 16:50:45+00:00           0   \n",
            "\n",
            "                                            postTitle  \\\n",
            "1   Yes, it's possible to apply for a birth certif...   \n",
            "2   Yes, it's possible to apply for a birth certif...   \n",
            "5   Yes, it's possible to apply for a birth certif...   \n",
            "12  Yes, it's possible to apply for a birth certif...   \n",
            "23  We are always happy to serve you. Welcome to H...   \n",
            "\n",
            "                           profileName  \\\n",
            "1                 Mugusi Macdonald Mac   \n",
            "2                     Purity K Adagala   \n",
            "5                          Mary Akinyi   \n",
            "12                       Hamson Bahati   \n",
            "23  Climbzone Cooling Services Limited   \n",
            "\n",
            "                                                 text  \n",
            "1   I am a witness, I applied for my child's birth...  \n",
            "2   When you have money, nothing is impossible in ...  \n",
            "5                               Very possible with 8k  \n",
            "12                          Huko ni wapi... Hii Kenya  \n",
            "23  I lost my Identity card and i need to replace ...  \n"
          ]
        }
      ]
    },
    {
      "cell_type": "code",
      "source": [
        "data.info()"
      ],
      "metadata": {
        "colab": {
          "base_uri": "https://localhost:8080/"
        },
        "id": "ZCkBgg2RHAUY",
        "outputId": "e4556a83-f421-4732-e180-6a20d7db6abe"
      },
      "execution_count": null,
      "outputs": [
        {
          "output_type": "stream",
          "name": "stdout",
          "text": [
            "<class 'pandas.core.frame.DataFrame'>\n",
            "RangeIndex: 2213 entries, 0 to 2212\n",
            "Data columns (total 6 columns):\n",
            " #   Column         Non-Null Count  Dtype  \n",
            "---  ------         --------------  -----  \n",
            " 0   commentsCount  602 non-null    float64\n",
            " 1   date           2213 non-null   object \n",
            " 2   likesCount     2213 non-null   int64  \n",
            " 3   postTitle      1736 non-null   object \n",
            " 4   profileName    2213 non-null   object \n",
            " 5   text           2144 non-null   object \n",
            "dtypes: float64(1), int64(1), object(4)\n",
            "memory usage: 103.9+ KB\n"
          ]
        }
      ]
    },
    {
      "cell_type": "code",
      "source": [
        "#Pre-Processing the text\n",
        "def cleaning(df, stop_words):\n",
        "    # Assuming your text data is in a column named 'text' (change this if needed)\n",
        "    # Handle potential float values by converting them to strings\n",
        "    df['sentences'] = df['text'].astype(str).apply(lambda x: ' '.join(x.lower() for x in x.split()))\n",
        "    # Replacing the digits/numbers\n",
        "    df['sentences'] = df['sentences'].str.replace('d', '')\n",
        "    # Removing stop words\n",
        "    df['sentences'] = df['sentences'].apply(lambda x: ' '.join(x for x in x.split() if x not in stop_words))\n",
        "    # Lemmatization\n",
        "    df['sentences'] = df['sentences'].apply(lambda x: ' '.join([lemmatizer.lemmatize(x) for x in x.split()]))\n",
        "    return df\n",
        "\n",
        "import nltk\n",
        "from nltk.corpus import stopwords\n",
        "from nltk.stem import WordNetLemmatizer\n",
        "nltk.download('stopwords')\n",
        "nltk.download('wordnet')\n",
        "stop_words = stopwords.words('english')\n",
        "lemmatizer = WordNetLemmatizer() # Initialize the lemmatizer\n",
        "data_cleaned = cleaning(data, stop_words)\n"
      ],
      "metadata": {
        "colab": {
          "base_uri": "https://localhost:8080/"
        },
        "id": "VVWm2jEwuG8-",
        "outputId": "37ff6cf5-3a7b-456e-96a3-58ab612b20bd"
      },
      "execution_count": null,
      "outputs": [
        {
          "output_type": "stream",
          "name": "stderr",
          "text": [
            "[nltk_data] Downloading package stopwords to /root/nltk_data...\n",
            "[nltk_data]   Package stopwords is already up-to-date!\n",
            "[nltk_data] Downloading package wordnet to /root/nltk_data...\n"
          ]
        }
      ]
    },
    {
      "cell_type": "code",
      "source": [
        "print(data_cleaned.head())"
      ],
      "metadata": {
        "colab": {
          "base_uri": "https://localhost:8080/"
        },
        "id": "Hm5bm1KuB0O9",
        "outputId": "cef49ef0-7a89-4048-fe86-666b990cc274",
        "collapsed": true
      },
      "execution_count": null,
      "outputs": [
        {
          "output_type": "stream",
          "name": "stdout",
          "text": [
            "   commentsCount                      date  likesCount  \\\n",
            "0            NaN  2023-10-02T06:23:01.000Z           0   \n",
            "1            1.0  2023-09-28T05:15:17.000Z           0   \n",
            "2            1.0  2023-09-27T13:35:39.000Z           0   \n",
            "3            NaN  2023-09-27T21:42:23.000Z           0   \n",
            "4            NaN  2023-09-27T20:15:04.000Z           0   \n",
            "\n",
            "                                           postTitle           profileName  \\\n",
            "0  Yes, it's possible to apply for a birth certif...     Virginiah Wanjiku   \n",
            "1  Yes, it's possible to apply for a birth certif...  Mugusi Macdonald Mac   \n",
            "2  Yes, it's possible to apply for a birth certif...      Purity K Adagala   \n",
            "3  Yes, it's possible to apply for a birth certif...         Ronald Ragnar   \n",
            "4  Yes, it's possible to apply for a birth certif...            Edu Ng'ash   \n",
            "\n",
            "                                                text  \\\n",
            "0                          May b a week or two weeks   \n",
            "1  I am a witness, I applied for my child's birth...   \n",
            "2  When you have money, nothing is impossible in ...   \n",
            "3  Hio tuliachia the rich Somalis....asubuhi anap...   \n",
            "4                           Shame on you..uongo tupu   \n",
            "\n",
            "                                           sentences  \n",
            "0                                may b week two week  \n",
            "1  witness, applie chil's birth certificate, aske...  \n",
            "2                    money, nothing impossible kenya  \n",
            "3  hio tuliachia rich somalis....asubuhi anapeana...  \n",
            "4                              shame you..uongo tupu  \n"
          ]
        }
      ]
    },
    {
      "cell_type": "code",
      "source": [
        "from sklearn.feature_extraction.text import TfidfVectorizer\n",
        "vectorizer = TfidfVectorizer(max_features=5000, ngram_range=(1,2))\n",
        "X = vectorizer.fit_transform(data_cleaned['sentences'])\n",
        "import tensorflow as tf\n",
        "import numpy as np\n",
        "X_coo = X.tocoo()\n",
        "indices = np.vstack((X_coo.row, X_coo.col)).T\n",
        "X_sparse_tf = tf.sparse.SparseTensor(indices=indices, values=X_coo.data, dense_shape=X_coo.shape)\n",
        "X_sparse_tf= tf.sparse.reorder(X_sparse_tf)\n",
        "X_sparse_tf.shape\n",
        "#save matrix using pickle\n",
        "import pickle\n",
        "with open('tfidf_matrix.pkl', 'wb') as f:\n",
        "    pickle.dump(X, f)\n",
        "\n",
        "\n",
        "\n"
      ],
      "metadata": {
        "id": "j-y7CoPmMoLR"
      },
      "execution_count": null,
      "outputs": []
    },
    {
      "cell_type": "code",
      "source": [
        "#loading back the mattrix\n",
        "with open('tfidf_matrix.pkl', 'rb') as f:\n",
        "        X = pickle.load(f)"
      ],
      "metadata": {
        "id": "hhW9zzquKPSI"
      },
      "execution_count": null,
      "outputs": []
    },
    {
      "cell_type": "code",
      "source": [
        "#sentimental analysis using textblob\n",
        "from textblob import TextBlob\n",
        "import pandas as pd\n",
        "\n",
        "def analyze_sentiment(text):\n",
        "    blob = TextBlob(text)\n",
        "    return blob.sentiment.polarity\n",
        "\n",
        "def classify_sentiment(polarity):\n",
        "    if polarity > 0:\n",
        "        return 'Positive'\n",
        "    elif polarity < 0:\n",
        "        return 'Negative'\n",
        "    else:\n",
        "        return 'Neutral'\n",
        "\n",
        "# Assuming 'data' is your DataFrame with 'text' column\n",
        "data['polarity'] = data['text'].apply(analyze_sentiment)\n",
        "data['sentiment_class'] = data['polarity'].apply(classify_sentiment)\n",
        "\n",
        "print(data['sentiment_class'].value_counts())"
      ],
      "metadata": {
        "id": "dUv6TUDtXlaJ",
        "colab": {
          "base_uri": "https://localhost:8080/"
        },
        "outputId": "2e8fa1ca-91cd-46a5-d54f-0f9f012df5b9"
      },
      "execution_count": null,
      "outputs": [
        {
          "output_type": "stream",
          "name": "stdout",
          "text": [
            "sentiment_class\n",
            "Neutral     223\n",
            "Positive    145\n",
            "Negative     56\n",
            "Name: count, dtype: int64\n"
          ]
        }
      ]
    },
    {
      "cell_type": "code",
      "source": [
        "#visualize sentiment distribution\n",
        "import matplotlib.pyplot as plt\n",
        "import seaborn as sns\n",
        "sns.countplot(x='sentiment_class', data=data)\n",
        "plt.title('Sentiment Distribution')\n",
        "plt.show()\n",
        "\n"
      ],
      "metadata": {
        "colab": {
          "base_uri": "https://localhost:8080/",
          "height": 472
        },
        "id": "JdY6pwdtLimq",
        "outputId": "ab18664a-ff1e-4793-a3d3-17de2f81d0b4"
      },
      "execution_count": null,
      "outputs": [
        {
          "output_type": "display_data",
          "data": {
            "text/plain": [
              "<Figure size 640x480 with 1 Axes>"
            ],
            "image/png": "[encoded data removed]"
          },
          "metadata": {}
        }
      ]
    },
    {
      "cell_type": "code",
      "source": [
        "#encode sentiment labels\n",
        "sentiment_mapping = {'Positive': 0, 'Neutral': 1, 'Negative': 2}\n",
        "data['sentiment_encoded'] = data['sentiment_class'].map(sentiment_mapping)\n",
        "y=pd.get_dummies(data['sentiment_encoded']).values"
      ],
      "metadata": {
        "id": "GOmJPzD9Pi4i"
      },
      "execution_count": null,
      "outputs": []
    },
    {
      "cell_type": "code",
      "source": [
        "#tokenization\n",
        "max_words = 5000\n",
        "tokenizer = Tokenizer(num_words=max_words, split=' ')\n",
        "tokenizer.fit_on_texts(data_cleaned['sentences'].values)\n",
        "X = tokenizer.texts_to_sequences(data_cleaned['sentences'].values)\n",
        "X = pad_sequences(X)\n",
        "\n"
      ],
      "metadata": {
        "id": "5kPJtM_EK2vu"
      },
      "execution_count": null,
      "outputs": []
    },
    {
      "cell_type": "code",
      "source": [
        "#train and test sets split\n",
        "Y = data['sentiment'].values\n",
        "X_train, X_test, Y_train, Y_test = train_test_split(X, Y, test_size=0.2, random_state=42)"
      ],
      "metadata": {
        "id": "5G4KiQtGQgr7"
      },
      "execution_count": null,
      "outputs": []
    },
    {
      "cell_type": "code",
      "source": [
        "#buid model\n",
        "Embedding_dim = 128\n",
        "lstm_out = 196\n",
        "model = Sequential()\n",
        "model.add(Embedding(max_words,Embedding_dim, input_length=X.shape[1]))\n",
        "model.add(SpatialDropout1D(0.4))\n",
        "model.add(LSTM(lstm_out, dropout=0.2, recurrent_dropout=0.2))\n",
        "model.add(Dense(1, activation='sigmoid'))\n",
        "model.compile(loss='binary_crossentropy', optimizer='adam', metrics=['accuracy'])\n",
        "print(model.summary())\n"
      ],
      "metadata": {
        "colab": {
          "base_uri": "https://localhost:8080/"
        },
        "id": "mYbNPQdaQ5Uf",
        "outputId": "9be5a848-4840-49ed-bced-9b6f9c127b2d"
      },
      "execution_count": null,
      "outputs": [
        {
          "output_type": "stream",
          "name": "stdout",
          "text": [
            "Model: \"sequential\"\n",
            "_________________________________________________________________\n",
            " Layer (type)                Output Shape              Param #   \n",
            "=================================================================\n",
            " embedding (Embedding)       (None, 87, 128)           640000    \n",
            "                                                                 \n",
            " spatial_dropout1d (Spatial  (None, 87, 128)           0         \n",
            " Dropout1D)                                                      \n",
            "                                                                 \n",
            " lstm (LSTM)                 (None, 196)               254800    \n",
            "                                                                 \n",
            " dense (Dense)               (None, 1)                 197       \n",
            "                                                                 \n",
            "=================================================================\n",
            "Total params: 894997 (3.41 MB)\n",
            "Trainable params: 894997 (3.41 MB)\n",
            "Non-trainable params: 0 (0.00 Byte)\n",
            "_________________________________________________________________\n",
            "None\n"
          ]
        }
      ]
    },
    {
      "cell_type": "code",
      "source": [
        "#train the lstm model\n",
        "epochs = 5\n",
        "batch_size = 32\n",
        "verbose=1\n",
        "history=model.fit(X_train, Y_train, epochs=epochs, batch_size=batch_size, validation_data=(X_test, Y_test))"
      ],
      "metadata": {
        "colab": {
          "base_uri": "https://localhost:8080/"
        },
        "id": "uMyyZgbXTHJd",
        "outputId": "f0a570df-52d4-454b-8c46-e9d3ecb0768c"
      },
      "execution_count": null,
      "outputs": [
        {
          "output_type": "stream",
          "name": "stdout",
          "text": [
            "Epoch 1/5\n",
            "11/11 [==============================] - 13s 514ms/step - loss: 0.3546 - accuracy: 0.6342 - val_loss: 0.1044 - val_accuracy: 0.7294\n",
            "Epoch 2/5\n",
            "11/11 [==============================] - 10s 986ms/step - loss: 0.1432 - accuracy: 0.6667 - val_loss: 0.1092 - val_accuracy: 0.7294\n",
            "Epoch 3/5\n",
            "11/11 [==============================] - 8s 772ms/step - loss: 0.1367 - accuracy: 0.6667 - val_loss: 0.0934 - val_accuracy: 0.7294\n",
            "Epoch 4/5\n",
            "11/11 [==============================] - 8s 680ms/step - loss: 0.1369 - accuracy: 0.6667 - val_loss: 0.0965 - val_accuracy: 0.7294\n",
            "Epoch 5/5\n",
            "11/11 [==============================] - 5s 416ms/step - loss: 0.1333 - accuracy: 0.6667 - val_loss: 0.0928 - val_accuracy: 0.7294\n"
          ]
        }
      ]
    },
    {
      "cell_type": "code",
      "source": [
        "#evaluating the model\n",
        "score, acc = model.evaluate(X_test, Y_test, batch_size=batch_size, verbose=verbose)\n",
        "print('Score: %.2f'%(score))\n",
        "print('Validation accuracy: %.2f'%(acc))\n",
        "\n"
      ],
      "metadata": {
        "colab": {
          "base_uri": "https://localhost:8080/"
        },
        "id": "H0OcAYO0UtX0",
        "outputId": "f0ed12ce-6645-4cba-9da0-6c5d3851938a"
      },
      "execution_count": null,
      "outputs": [
        {
          "output_type": "stream",
          "name": "stdout",
          "text": [
            "3/3 [==============================] - 0s 67ms/step - loss: 0.0928 - accuracy: 0.7294\n",
            "Score: 0.09\n",
            "Validation accuracy: 0.73\n"
          ]
        }
      ]
    },
    {
      "cell_type": "code",
      "source": [
        "import matplotlib.pyplot as plt\n",
        "plt.plot(history.history['accuracy'])\n",
        "plt.plot(history.history['val_accuracy'])\n",
        "plt.title('Model Accuracy')\n",
        "plt.ylabel('Accuracy')\n",
        "plt.xlabel('Epoch')\n",
        "plt.legend(['Train', 'Validation'], loc='upper left')\n",
        "plt.show"
      ],
      "metadata": {
        "colab": {
          "base_uri": "https://localhost:8080/",
          "height": 642
        },
        "id": "MVcHscXFTu7P",
        "outputId": "86431334-1e92-4e86-c1bf-bc1e06468547",
        "collapsed": true
      },
      "execution_count": null,
      "outputs": [
        {
          "output_type": "execute_result",
          "data": {
            "text/plain": [
              "<function matplotlib.pyplot.show(close=None, block=None)>"
            ],
            "text/html": [
              "<div style=\"max-width:800px; border: 1px solid var(--colab-border-color);\"><style>\n",
              "      pre.function-repr-contents {\n",
              "        overflow-x: auto;\n",
              "        padding: 8px 12px;\n",
              "        max-height: 500px;\n",
              "      }\n",
              "\n",
              "      pre.function-repr-contents.function-repr-contents-collapsed {\n",
              "        cursor: pointer;\n",
              "        max-height: 100px;\n",
              "      }\n",
              "    </style>\n",
              "    <pre style=\"white-space: initial; background:\n",
              "         var(--colab-secondary-surface-color); padding: 8px 12px;\n",
              "         border-bottom: 1px solid var(--colab-border-color);\"><b>matplotlib.pyplot.show</b><br/>def show(*args, **kwargs)</pre><pre class=\"function-repr-contents function-repr-contents-collapsed\" style=\"\"><a class=\"filepath\" style=\"display:none\" href=\"#\">/usr/local/lib/python3.10/dist-packages/matplotlib/pyplot.py</a>Display all open figures.\n",
              "\n",
              "Parameters\n",
              "----------\n",
              "block : bool, optional\n",
              "    Whether to wait for all figures to be closed before returning.\n",
              "\n",
              "    If `True` block and run the GUI main loop until all figure windows\n",
              "    are closed.\n",
              "\n",
              "    If `False` ensure that all figure windows are displayed and return\n",
              "    immediately.  In this case, you are responsible for ensuring\n",
              "    that the event loop is running to have responsive figures.\n",
              "\n",
              "    Defaults to True in non-interactive mode and to False in interactive\n",
              "    mode (see `.pyplot.isinteractive`).\n",
              "\n",
              "See Also\n",
              "--------\n",
              "ion : Enable interactive mode, which shows / updates the figure after\n",
              "      every plotting command, so that calling ``show()`` is not necessary.\n",
              "ioff : Disable interactive mode.\n",
              "savefig : Save the figure to an image file instead of showing it on screen.\n",
              "\n",
              "Notes\n",
              "-----\n",
              "**Saving figures to file and showing a window at the same time**\n",
              "\n",
              "If you want an image file as well as a user interface window, use\n",
              "`.pyplot.savefig` before `.pyplot.show`. At the end of (a blocking)\n",
              "``show()`` the figure is closed and thus unregistered from pyplot. Calling\n",
              "`.pyplot.savefig` afterwards would save a new and thus empty figure. This\n",
              "limitation of command order does not apply if the show is non-blocking or\n",
              "if you keep a reference to the figure and use `.Figure.savefig`.\n",
              "\n",
              "**Auto-show in jupyter notebooks**\n",
              "\n",
              "The jupyter backends (activated via ``%matplotlib inline``,\n",
              "``%matplotlib notebook``, or ``%matplotlib widget``), call ``show()`` at\n",
              "the end of every cell by default. Thus, you usually don&#x27;t have to call it\n",
              "explicitly there.</pre>\n",
              "      <script>\n",
              "      if (google.colab.kernel.accessAllowed && google.colab.files && google.colab.files.view) {\n",
              "        for (const element of document.querySelectorAll('.filepath')) {\n",
              "          element.style.display = 'block'\n",
              "          element.onclick = (event) => {\n",
              "            event.preventDefault();\n",
              "            event.stopPropagation();\n",
              "            google.colab.files.view(element.textContent, 401);\n",
              "          };\n",
              "        }\n",
              "      }\n",
              "      for (const element of document.querySelectorAll('.function-repr-contents')) {\n",
              "        element.onclick = (event) => {\n",
              "          event.preventDefault();\n",
              "          event.stopPropagation();\n",
              "          element.classList.toggle('function-repr-contents-collapsed');\n",
              "        };\n",
              "      }\n",
              "      </script>\n",
              "      </div>"
            ]
          },
          "metadata": {},
          "execution_count": 34
        },
        {
          "output_type": "display_data",
          "data": {
            "text/plain": [
              "<Figure size 640x480 with 1 Axes>"
            ],
            "image/png": "[encoded data removed]"
          },
          "metadata": {}
        }
      ]
    },
    {
      "cell_type": "code",
      "source": [
        "#plot training and validation loss\n",
        "plt.plot(history.history['loss'])\n",
        "plt.plot(history.history['val_loss'])\n",
        "plt.title('Model Loss')\n",
        "plt.ylabel('Loss')\n",
        "plt.xlabel('Epoch')\n",
        "plt.legend(['Train', 'Validation'], loc='upper left')"
      ],
      "metadata": {
        "colab": {
          "base_uri": "https://localhost:8080/",
          "height": 489
        },
        "id": "qDxcve6AP4E3",
        "outputId": "3cc5d7ed-d937-40b4-ef81-1f468618a3bf"
      },
      "execution_count": null,
      "outputs": [
        {
          "output_type": "execute_result",
          "data": {
            "text/plain": [
              "<matplotlib.legend.Legend at 0x7aa6301fdf30>"
            ]
          },
          "metadata": {},
          "execution_count": 32
        },
        {
          "output_type": "display_data",
          "data": {
            "text/plain": [
              "<Figure size 640x480 with 1 Axes>"
            ],
            "image/png": "[encoded data removed]"
          },
          "metadata": {}
        }
      ]
    },
    {
      "cell_type": "code",
      "source": [],
      "metadata": {
        "id": "_G-ibS3XKzq5"
      },
      "execution_count": null,
      "outputs": []
    }
  ]
}